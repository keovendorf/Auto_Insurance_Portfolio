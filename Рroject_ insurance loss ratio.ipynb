{
 "cells": [
  {
   "cell_type": "code",
   "execution_count": 1,
   "metadata": {},
   "outputs": [],
   "source": [
    "import pandas as pd\n",
    "import numpy as np\n",
    "import matplotlib.pyplot as plt\n",
    "import seaborn as sns\n",
    "import random\n",
    "\n",
    "from sklearn.model_selection import train_test_split\n",
    "from sklearn.ensemble import RandomForestRegressor\n",
    "from sklearn.metrics import mean_squared_error\n",
    "from sklearn import preprocessing\n",
    "%matplotlib inline"
   ]
  },
  {
   "cell_type": "code",
   "execution_count": 2,
   "metadata": {},
   "outputs": [
    {
     "name": "stderr",
     "output_type": "stream",
     "text": [
      "C:\\anaconda\\lib\\site-packages\\IPython\\core\\interactiveshell.py:3063: DtypeWarning: Columns (6,54) have mixed types.Specify dtype option on import or set low_memory=False.\n",
      "  interactivity=interactivity, compiler=compiler, result=result)\n"
     ]
    }
   ],
   "source": [
    "train_set = pd.read_csv('training_dataset/training_data.csv')"
   ]
  },
  {
   "cell_type": "code",
   "execution_count": 53,
   "metadata": {},
   "outputs": [
    {
     "name": "stdout",
     "output_type": "stream",
     "text": [
      "<class 'pandas.core.frame.DataFrame'>\n",
      "RangeIndex: 424431 entries, 0 to 424430\n",
      "Data columns (total 69 columns):\n",
      " #   Column                                    Non-Null Count   Dtype  \n",
      "---  ------                                    --------------   -----  \n",
      " 0   PolicyNo                                  424431 non-null  int64  \n",
      " 1   Policy_Company                            424431 non-null  object \n",
      " 2   Policy_Installment_Term                   424431 non-null  int64  \n",
      " 3   Policy_Billing_Code                       424431 non-null  object \n",
      " 4   Policy_Method_Of_Payment                  424431 non-null  object \n",
      " 5   Policy_Reinstatement_Fee_Indicator        424431 non-null  object \n",
      " 6   Policy_Zip_Code_Garaging_Location         424431 non-null  object \n",
      " 7   Vehicle_Territory                         424431 non-null  int64  \n",
      " 8   Vehicle_Make_Year                         424431 non-null  int64  \n",
      " 9   Vehicle_Make_Description                  424431 non-null  object \n",
      " 10  Vehicle_Performance                       424431 non-null  object \n",
      " 11  Vehicle_New_Cost_Amount                   424431 non-null  int64  \n",
      " 12  Vehicle_Symbol                            424431 non-null  int64  \n",
      " 13  Vehicle_Number_Of_Drivers_Assigned        424431 non-null  int64  \n",
      " 14  Vehicle_Usage                             424431 non-null  object \n",
      " 15  Vehicle_Miles_To_Work                     424431 non-null  int64  \n",
      " 16  Vehicle_Days_Per_Week_Driven              424431 non-null  int64  \n",
      " 17  Vehicle_Annual_Miles                      424431 non-null  object \n",
      " 18  Vehicle_Anti_Theft_Device                 424431 non-null  object \n",
      " 19  Vehicle_Passive_Restraint                 424431 non-null  object \n",
      " 20  Vehicle_Age_In_Years                      424431 non-null  int64  \n",
      " 21  Vehicle_Med_Pay_Limit                     424431 non-null  int64  \n",
      " 22  Vehicle_Bodily_Injury_Limit               407105 non-null  object \n",
      " 23  Vehicle_Physical_Damage_Limit             424431 non-null  int64  \n",
      " 24  Vehicle_Comprehensive_Coverage_Indicator  424431 non-null  object \n",
      " 25  Vehicle_Comprehensive_Coverage_Limit      424431 non-null  int64  \n",
      " 26  Vehicle_Collision_Coverage_Indicator      424431 non-null  object \n",
      " 27  Vehicle_Collision_Coverage_Deductible     424431 non-null  int64  \n",
      " 28  Driver_Total                              424431 non-null  int64  \n",
      " 29  Driver_Total_Male                         424431 non-null  int64  \n",
      " 30  Driver_Total_Female                       424431 non-null  int64  \n",
      " 31  Driver_Total_Single                       424431 non-null  int64  \n",
      " 32  Driver_Total_Married                      424431 non-null  int64  \n",
      " 33  Driver_Total_Related_To_Insured_Self      424431 non-null  int64  \n",
      " 34  Driver_Total_Related_To_Insured_Spouse    424431 non-null  int64  \n",
      " 35  Driver_Total_Related_To_Insured_Child     424431 non-null  int64  \n",
      " 36  Driver_Total_Licensed_In_State            424431 non-null  int64  \n",
      " 37  Driver_Minimum_Age                        424431 non-null  int64  \n",
      " 38  Driver_Maximum_Age                        424431 non-null  int64  \n",
      " 39  Driver_Total_Teenager_Age_15_19           424431 non-null  int64  \n",
      " 40  Driver_Total_College_Ages_20_23           424431 non-null  int64  \n",
      " 41  Driver_Total_Young_Adult_Ages_24_29       424431 non-null  int64  \n",
      " 42  Driver_Total_Low_Middle_Adult_Ages_30_39  424431 non-null  int64  \n",
      " 43  Driver_Total_Middle_Adult_Ages_40_49      424431 non-null  int64  \n",
      " 44  Driver_Total_Adult_Ages_50_64             424431 non-null  int64  \n",
      " 45  Driver_Total_Senior_Ages_65_69            424431 non-null  int64  \n",
      " 46  Driver_Total_Upper_Senior_Ages_70_plus    424431 non-null  int64  \n",
      " 47  Vehicle_Youthful_Driver_Indicator         424431 non-null  object \n",
      " 48  Vehicle_Youthful_Driver_Training_Code     424431 non-null  object \n",
      " 49  Vehicle_Youthful_Good_Student_Code        424431 non-null  object \n",
      " 50  Vehicle_Driver_Points                     424431 non-null  int64  \n",
      " 51  Vehicle_Safe_Driver_Discount_Indicator    424431 non-null  object \n",
      " 52  EEA_Liability_Coverage_Only_Indicator     424431 non-null  object \n",
      " 53  EEA_Multi_Auto_Policies_Indicator         424431 non-null  object \n",
      " 54  EEA_Policy_Zip_Code_3                     424431 non-null  object \n",
      " 55  EEA_Policy_Tenure                         424431 non-null  float64\n",
      " 56  EEA_Agency_Type                           424431 non-null  object \n",
      " 57  EEA_Packaged_Policy_Indicator             424431 non-null  object \n",
      " 58  EEA_Full_Coverage_Indicator               424431 non-null  object \n",
      " 59  EEA_Prior_Bodily_Injury_Limit             407105 non-null  object \n",
      " 60  EEA_PolicyYear                            424431 non-null  int64  \n",
      " 61  SYS_Renewed                               424431 non-null  object \n",
      " 62  SYS_New_Business                          424431 non-null  object \n",
      " 63  Annual_Premium                            424431 non-null  float64\n",
      " 64  Claim_Count                               424431 non-null  int64  \n",
      " 65  Loss_Amount                               424431 non-null  float64\n",
      " 66  Frequency                                 424431 non-null  float64\n",
      " 67  Severity                                  424431 non-null  float64\n",
      " 68  Loss_Ratio                                424431 non-null  float64\n",
      "dtypes: float64(6), int64(36), object(27)\n",
      "memory usage: 179.7+ MB\n"
     ]
    }
   ],
   "source": [
    "train_set.info()"
   ]
  },
  {
   "cell_type": "code",
   "execution_count": 3,
   "metadata": {},
   "outputs": [
    {
     "data": {
      "text/html": [
       "<div>\n",
       "<style scoped>\n",
       "    .dataframe tbody tr th:only-of-type {\n",
       "        vertical-align: middle;\n",
       "    }\n",
       "\n",
       "    .dataframe tbody tr th {\n",
       "        vertical-align: top;\n",
       "    }\n",
       "\n",
       "    .dataframe thead th {\n",
       "        text-align: right;\n",
       "    }\n",
       "</style>\n",
       "<table border=\"1\" class=\"dataframe\">\n",
       "  <thead>\n",
       "    <tr style=\"text-align: right;\">\n",
       "      <th></th>\n",
       "      <th>PolicyNo</th>\n",
       "      <th>Policy_Company</th>\n",
       "      <th>Policy_Installment_Term</th>\n",
       "      <th>Policy_Billing_Code</th>\n",
       "      <th>Policy_Method_Of_Payment</th>\n",
       "      <th>Policy_Reinstatement_Fee_Indicator</th>\n",
       "      <th>Policy_Zip_Code_Garaging_Location</th>\n",
       "      <th>Vehicle_Territory</th>\n",
       "      <th>Vehicle_Make_Year</th>\n",
       "      <th>Vehicle_Make_Description</th>\n",
       "      <th>...</th>\n",
       "      <th>EEA_Prior_Bodily_Injury_Limit</th>\n",
       "      <th>EEA_PolicyYear</th>\n",
       "      <th>SYS_Renewed</th>\n",
       "      <th>SYS_New_Business</th>\n",
       "      <th>Annual_Premium</th>\n",
       "      <th>Claim_Count</th>\n",
       "      <th>Loss_Amount</th>\n",
       "      <th>Frequency</th>\n",
       "      <th>Severity</th>\n",
       "      <th>Loss_Ratio</th>\n",
       "    </tr>\n",
       "  </thead>\n",
       "  <tbody>\n",
       "    <tr>\n",
       "      <th>0</th>\n",
       "      <td>164532941</td>\n",
       "      <td>Standard</td>\n",
       "      <td>6</td>\n",
       "      <td>Direct Billed to Insured</td>\n",
       "      <td>Pre-paid</td>\n",
       "      <td>N</td>\n",
       "      <td>43046</td>\n",
       "      <td>35</td>\n",
       "      <td>2004</td>\n",
       "      <td>BUIK LESABRE LI</td>\n",
       "      <td>...</td>\n",
       "      <td>100-400</td>\n",
       "      <td>2006</td>\n",
       "      <td>Y</td>\n",
       "      <td>N</td>\n",
       "      <td>320.12</td>\n",
       "      <td>0</td>\n",
       "      <td>0.0</td>\n",
       "      <td>0.0</td>\n",
       "      <td>0.0</td>\n",
       "      <td>0.0</td>\n",
       "    </tr>\n",
       "    <tr>\n",
       "      <th>1</th>\n",
       "      <td>164533241</td>\n",
       "      <td>Standard</td>\n",
       "      <td>6</td>\n",
       "      <td>Direct Billed to Insured</td>\n",
       "      <td>Pre-paid</td>\n",
       "      <td>N</td>\n",
       "      <td>Unknown</td>\n",
       "      <td>35</td>\n",
       "      <td>1980</td>\n",
       "      <td>CADILLAC   4-DOOR</td>\n",
       "      <td>...</td>\n",
       "      <td>100-200</td>\n",
       "      <td>2006</td>\n",
       "      <td>Y</td>\n",
       "      <td>N</td>\n",
       "      <td>259.70</td>\n",
       "      <td>0</td>\n",
       "      <td>0.0</td>\n",
       "      <td>0.0</td>\n",
       "      <td>0.0</td>\n",
       "      <td>0.0</td>\n",
       "    </tr>\n",
       "    <tr>\n",
       "      <th>2</th>\n",
       "      <td>164534633</td>\n",
       "      <td>Standard</td>\n",
       "      <td>6</td>\n",
       "      <td>Direct Billed to Insured</td>\n",
       "      <td>Pre-paid</td>\n",
       "      <td>N</td>\n",
       "      <td>43555</td>\n",
       "      <td>17</td>\n",
       "      <td>2005</td>\n",
       "      <td>PONT MONTANA SV</td>\n",
       "      <td>...</td>\n",
       "      <td>100-400</td>\n",
       "      <td>2006</td>\n",
       "      <td>Y</td>\n",
       "      <td>N</td>\n",
       "      <td>613.74</td>\n",
       "      <td>0</td>\n",
       "      <td>0.0</td>\n",
       "      <td>0.0</td>\n",
       "      <td>0.0</td>\n",
       "      <td>0.0</td>\n",
       "    </tr>\n",
       "    <tr>\n",
       "      <th>3</th>\n",
       "      <td>164534839</td>\n",
       "      <td>Standard</td>\n",
       "      <td>6</td>\n",
       "      <td>Direct Billed to Insured</td>\n",
       "      <td>Pre-paid</td>\n",
       "      <td>N</td>\n",
       "      <td>43561</td>\n",
       "      <td>17</td>\n",
       "      <td>2005</td>\n",
       "      <td>MERC GRAND MARQ</td>\n",
       "      <td>...</td>\n",
       "      <td>40-100</td>\n",
       "      <td>2006</td>\n",
       "      <td>Y</td>\n",
       "      <td>N</td>\n",
       "      <td>541.66</td>\n",
       "      <td>0</td>\n",
       "      <td>0.0</td>\n",
       "      <td>0.0</td>\n",
       "      <td>0.0</td>\n",
       "      <td>0.0</td>\n",
       "    </tr>\n",
       "    <tr>\n",
       "      <th>4</th>\n",
       "      <td>164534840</td>\n",
       "      <td>Standard</td>\n",
       "      <td>6</td>\n",
       "      <td>Direct Billed to Insured</td>\n",
       "      <td>Pre-paid</td>\n",
       "      <td>N</td>\n",
       "      <td>43561</td>\n",
       "      <td>17</td>\n",
       "      <td>2005</td>\n",
       "      <td>MERC GRAND MARQ</td>\n",
       "      <td>...</td>\n",
       "      <td>40-100</td>\n",
       "      <td>2006</td>\n",
       "      <td>Y</td>\n",
       "      <td>N</td>\n",
       "      <td>541.66</td>\n",
       "      <td>0</td>\n",
       "      <td>0.0</td>\n",
       "      <td>0.0</td>\n",
       "      <td>0.0</td>\n",
       "      <td>0.0</td>\n",
       "    </tr>\n",
       "  </tbody>\n",
       "</table>\n",
       "<p>5 rows × 69 columns</p>\n",
       "</div>"
      ],
      "text/plain": [
       "    PolicyNo Policy_Company  Policy_Installment_Term  \\\n",
       "0  164532941      Standard                         6   \n",
       "1  164533241      Standard                         6   \n",
       "2  164534633      Standard                         6   \n",
       "3  164534839      Standard                         6   \n",
       "4  164534840      Standard                         6   \n",
       "\n",
       "        Policy_Billing_Code Policy_Method_Of_Payment  \\\n",
       "0  Direct Billed to Insured                 Pre-paid   \n",
       "1  Direct Billed to Insured                 Pre-paid   \n",
       "2  Direct Billed to Insured                 Pre-paid   \n",
       "3  Direct Billed to Insured                 Pre-paid   \n",
       "4  Direct Billed to Insured                 Pre-paid   \n",
       "\n",
       "  Policy_Reinstatement_Fee_Indicator Policy_Zip_Code_Garaging_Location  \\\n",
       "0                                  N                             43046   \n",
       "1                                  N                           Unknown   \n",
       "2                                  N                             43555   \n",
       "3                                  N                             43561   \n",
       "4                                  N                             43561   \n",
       "\n",
       "   Vehicle_Territory  Vehicle_Make_Year Vehicle_Make_Description  ...  \\\n",
       "0                 35               2004        BUIK LESABRE LI    ...   \n",
       "1                 35               1980        CADILLAC   4-DOOR  ...   \n",
       "2                 17               2005        PONT MONTANA SV    ...   \n",
       "3                 17               2005        MERC GRAND MARQ    ...   \n",
       "4                 17               2005        MERC GRAND MARQ    ...   \n",
       "\n",
       "  EEA_Prior_Bodily_Injury_Limit  EEA_PolicyYear  SYS_Renewed  \\\n",
       "0                       100-400            2006            Y   \n",
       "1                       100-200            2006            Y   \n",
       "2                       100-400            2006            Y   \n",
       "3                       40-100             2006            Y   \n",
       "4                       40-100             2006            Y   \n",
       "\n",
       "   SYS_New_Business Annual_Premium  Claim_Count  Loss_Amount Frequency  \\\n",
       "0                 N         320.12            0          0.0       0.0   \n",
       "1                 N         259.70            0          0.0       0.0   \n",
       "2                 N         613.74            0          0.0       0.0   \n",
       "3                 N         541.66            0          0.0       0.0   \n",
       "4                 N         541.66            0          0.0       0.0   \n",
       "\n",
       "  Severity Loss_Ratio  \n",
       "0      0.0        0.0  \n",
       "1      0.0        0.0  \n",
       "2      0.0        0.0  \n",
       "3      0.0        0.0  \n",
       "4      0.0        0.0  \n",
       "\n",
       "[5 rows x 69 columns]"
      ]
     },
     "execution_count": 3,
     "metadata": {},
     "output_type": "execute_result"
    }
   ],
   "source": [
    "#shows top 5 rows for training data\n",
    "train_set.head()"
   ]
  },
  {
   "cell_type": "code",
   "execution_count": 4,
   "metadata": {},
   "outputs": [
    {
     "data": {
      "text/plain": [
       "25-50      145145\n",
       "100-300    130255\n",
       "50-100     107950\n",
       "250-500     21757\n",
       "500-500       837\n",
       "300-500       617\n",
       "100-500       502\n",
       "1M-1M          42\n",
       "Name: Vehicle_Bodily_Injury_Limit, dtype: int64"
      ]
     },
     "execution_count": 4,
     "metadata": {},
     "output_type": "execute_result"
    }
   ],
   "source": [
    "#count number of types of variables\n",
    "train_set['Vehicle_Bodily_Injury_Limit'].value_counts()"
   ]
  },
  {
   "cell_type": "code",
   "execution_count": 5,
   "metadata": {},
   "outputs": [
    {
     "data": {
      "text/plain": [
       "20-50      145145\n",
       "100-200    130255\n",
       "40-100     107950\n",
       "100-400     21757\n",
       "300-300       837\n",
       "200-400       617\n",
       "75-300        502\n",
       "750-750        42\n",
       "Name: EEA_Prior_Bodily_Injury_Limit, dtype: int64"
      ]
     },
     "execution_count": 5,
     "metadata": {},
     "output_type": "execute_result"
    }
   ],
   "source": [
    "train_set['EEA_Prior_Bodily_Injury_Limit'].value_counts()"
   ]
  },
  {
   "cell_type": "code",
   "execution_count": 6,
   "metadata": {},
   "outputs": [],
   "source": [
    "#train_set_dropped = train_set.dropna()\n",
    "\n",
    "#Dropped outliers\n",
    "train_set_dropped = train_set[train_set.EEA_Prior_Bodily_Injury_Limit != '750-750']"
   ]
  },
  {
   "cell_type": "code",
   "execution_count": 7,
   "metadata": {},
   "outputs": [
    {
     "data": {
      "text/plain": [
       "25-50      145145\n",
       "100-300    130255\n",
       "50-100     107950\n",
       "250-500     21757\n",
       "500-500       837\n",
       "300-500       617\n",
       "100-500       502\n",
       "Name: Vehicle_Bodily_Injury_Limit, dtype: int64"
      ]
     },
     "execution_count": 7,
     "metadata": {},
     "output_type": "execute_result"
    }
   ],
   "source": [
    "train_set_dropped['Vehicle_Bodily_Injury_Limit'].value_counts()"
   ]
  },
  {
   "cell_type": "code",
   "execution_count": 8,
   "metadata": {},
   "outputs": [
    {
     "name": "stdout",
     "output_type": "stream",
     "text": [
      "<class 'pandas.core.frame.DataFrame'>\n",
      "Int64Index: 424389 entries, 0 to 424430\n",
      "Data columns (total 69 columns):\n",
      " #   Column                                    Non-Null Count   Dtype  \n",
      "---  ------                                    --------------   -----  \n",
      " 0   PolicyNo                                  424389 non-null  int64  \n",
      " 1   Policy_Company                            424389 non-null  object \n",
      " 2   Policy_Installment_Term                   424389 non-null  int64  \n",
      " 3   Policy_Billing_Code                       424389 non-null  object \n",
      " 4   Policy_Method_Of_Payment                  424389 non-null  object \n",
      " 5   Policy_Reinstatement_Fee_Indicator        424389 non-null  object \n",
      " 6   Policy_Zip_Code_Garaging_Location         424389 non-null  object \n",
      " 7   Vehicle_Territory                         424389 non-null  int64  \n",
      " 8   Vehicle_Make_Year                         424389 non-null  int64  \n",
      " 9   Vehicle_Make_Description                  424389 non-null  object \n",
      " 10  Vehicle_Performance                       424389 non-null  object \n",
      " 11  Vehicle_New_Cost_Amount                   424389 non-null  int64  \n",
      " 12  Vehicle_Symbol                            424389 non-null  int64  \n",
      " 13  Vehicle_Number_Of_Drivers_Assigned        424389 non-null  int64  \n",
      " 14  Vehicle_Usage                             424389 non-null  object \n",
      " 15  Vehicle_Miles_To_Work                     424389 non-null  int64  \n",
      " 16  Vehicle_Days_Per_Week_Driven              424389 non-null  int64  \n",
      " 17  Vehicle_Annual_Miles                      424389 non-null  object \n",
      " 18  Vehicle_Anti_Theft_Device                 424389 non-null  object \n",
      " 19  Vehicle_Passive_Restraint                 424389 non-null  object \n",
      " 20  Vehicle_Age_In_Years                      424389 non-null  int64  \n",
      " 21  Vehicle_Med_Pay_Limit                     424389 non-null  int64  \n",
      " 22  Vehicle_Bodily_Injury_Limit               407063 non-null  object \n",
      " 23  Vehicle_Physical_Damage_Limit             424389 non-null  int64  \n",
      " 24  Vehicle_Comprehensive_Coverage_Indicator  424389 non-null  object \n",
      " 25  Vehicle_Comprehensive_Coverage_Limit      424389 non-null  int64  \n",
      " 26  Vehicle_Collision_Coverage_Indicator      424389 non-null  object \n",
      " 27  Vehicle_Collision_Coverage_Deductible     424389 non-null  int64  \n",
      " 28  Driver_Total                              424389 non-null  int64  \n",
      " 29  Driver_Total_Male                         424389 non-null  int64  \n",
      " 30  Driver_Total_Female                       424389 non-null  int64  \n",
      " 31  Driver_Total_Single                       424389 non-null  int64  \n",
      " 32  Driver_Total_Married                      424389 non-null  int64  \n",
      " 33  Driver_Total_Related_To_Insured_Self      424389 non-null  int64  \n",
      " 34  Driver_Total_Related_To_Insured_Spouse    424389 non-null  int64  \n",
      " 35  Driver_Total_Related_To_Insured_Child     424389 non-null  int64  \n",
      " 36  Driver_Total_Licensed_In_State            424389 non-null  int64  \n",
      " 37  Driver_Minimum_Age                        424389 non-null  int64  \n",
      " 38  Driver_Maximum_Age                        424389 non-null  int64  \n",
      " 39  Driver_Total_Teenager_Age_15_19           424389 non-null  int64  \n",
      " 40  Driver_Total_College_Ages_20_23           424389 non-null  int64  \n",
      " 41  Driver_Total_Young_Adult_Ages_24_29       424389 non-null  int64  \n",
      " 42  Driver_Total_Low_Middle_Adult_Ages_30_39  424389 non-null  int64  \n",
      " 43  Driver_Total_Middle_Adult_Ages_40_49      424389 non-null  int64  \n",
      " 44  Driver_Total_Adult_Ages_50_64             424389 non-null  int64  \n",
      " 45  Driver_Total_Senior_Ages_65_69            424389 non-null  int64  \n",
      " 46  Driver_Total_Upper_Senior_Ages_70_plus    424389 non-null  int64  \n",
      " 47  Vehicle_Youthful_Driver_Indicator         424389 non-null  object \n",
      " 48  Vehicle_Youthful_Driver_Training_Code     424389 non-null  object \n",
      " 49  Vehicle_Youthful_Good_Student_Code        424389 non-null  object \n",
      " 50  Vehicle_Driver_Points                     424389 non-null  int64  \n",
      " 51  Vehicle_Safe_Driver_Discount_Indicator    424389 non-null  object \n",
      " 52  EEA_Liability_Coverage_Only_Indicator     424389 non-null  object \n",
      " 53  EEA_Multi_Auto_Policies_Indicator         424389 non-null  object \n",
      " 54  EEA_Policy_Zip_Code_3                     424389 non-null  object \n",
      " 55  EEA_Policy_Tenure                         424389 non-null  float64\n",
      " 56  EEA_Agency_Type                           424389 non-null  object \n",
      " 57  EEA_Packaged_Policy_Indicator             424389 non-null  object \n",
      " 58  EEA_Full_Coverage_Indicator               424389 non-null  object \n",
      " 59  EEA_Prior_Bodily_Injury_Limit             407063 non-null  object \n",
      " 60  EEA_PolicyYear                            424389 non-null  int64  \n",
      " 61  SYS_Renewed                               424389 non-null  object \n",
      " 62  SYS_New_Business                          424389 non-null  object \n",
      " 63  Annual_Premium                            424389 non-null  float64\n",
      " 64  Claim_Count                               424389 non-null  int64  \n",
      " 65  Loss_Amount                               424389 non-null  float64\n",
      " 66  Frequency                                 424389 non-null  float64\n",
      " 67  Severity                                  424389 non-null  float64\n",
      " 68  Loss_Ratio                                424389 non-null  float64\n",
      "dtypes: float64(6), int64(36), object(27)\n",
      "memory usage: 182.9+ MB\n"
     ]
    }
   ],
   "source": [
    "train_set_dropped.info()"
   ]
  },
  {
   "cell_type": "code",
   "execution_count": 9,
   "metadata": {},
   "outputs": [
    {
     "data": {
      "text/plain": [
       "0.00      405524\n",
       "0.12         191\n",
       "0.13         168\n",
       "0.14         148\n",
       "0.11         140\n",
       "           ...  \n",
       "126.91         1\n",
       "195.38         1\n",
       "969.41         1\n",
       "36.05          1\n",
       "31.60          1\n",
       "Name: Loss_Ratio, Length: 4417, dtype: int64"
      ]
     },
     "execution_count": 9,
     "metadata": {},
     "output_type": "execute_result"
    }
   ],
   "source": [
    "train_set_dropped.Loss_Ratio.value_counts()"
   ]
  },
  {
   "cell_type": "code",
   "execution_count": 10,
   "metadata": {},
   "outputs": [
    {
     "data": {
      "text/plain": [
       "3752.583625179135"
      ]
     },
     "execution_count": 10,
     "metadata": {},
     "output_type": "execute_result"
    }
   ],
   "source": [
    "train_set_dropped[train_set_dropped.Vehicle_Miles_To_Work == -1].Loss_Amount.std()"
   ]
  },
  {
   "cell_type": "code",
   "execution_count": 11,
   "metadata": {},
   "outputs": [
    {
     "data": {
      "text/plain": [
       "[<matplotlib.lines.Line2D at 0x4c31e90>,\n",
       " <matplotlib.lines.Line2D at 0x4c31ff0>]"
      ]
     },
     "execution_count": 11,
     "metadata": {},
     "output_type": "execute_result"
    },
    {
     "data": {
      "image/png": "[encoded data removed]",
      "text/plain": [
       "<Figure size 432x288 with 1 Axes>"
      ]
     },
     "metadata": {
      "needs_background": "light"
     },
     "output_type": "display_data"
    }
   ],
   "source": [
    "plt.plot(train_set_dropped[train_set_dropped.Vehicle_Miles_To_Work == -1][['Vehicle_Miles_To_Work', 'Loss_Amount']], 'ro')"
   ]
  },
  {
   "cell_type": "code",
   "execution_count": 12,
   "metadata": {},
   "outputs": [],
   "source": [
    "#Picking \"important\" features\n",
    "new_train_set = train_set_dropped[['Vehicle_Age_In_Years',                                    \n",
    "                                   'Vehicle_Physical_Damage_Limit',\n",
    "  #                                 'Vehicle_Miles_To_Work',\n",
    "                                   'Driver_Minimum_Age',                          \n",
    "                                   'Driver_Maximum_Age',                                        \n",
    "                                   'EEA_Policy_Tenure',                                                                                  \n",
    "                                   'Annual_Premium',\n",
    "                                    'Loss_Amount']]"
   ]
  },
  {
   "cell_type": "code",
   "execution_count": 13,
   "metadata": {},
   "outputs": [
    {
     "name": "stdout",
     "output_type": "stream",
     "text": [
      "<class 'pandas.core.frame.DataFrame'>\n",
      "Int64Index: 424389 entries, 0 to 424430\n",
      "Data columns (total 7 columns):\n",
      " #   Column                         Non-Null Count   Dtype  \n",
      "---  ------                         --------------   -----  \n",
      " 0   Vehicle_Age_In_Years           424389 non-null  int64  \n",
      " 1   Vehicle_Physical_Damage_Limit  424389 non-null  int64  \n",
      " 2   Driver_Minimum_Age             424389 non-null  int64  \n",
      " 3   Driver_Maximum_Age             424389 non-null  int64  \n",
      " 4   EEA_Policy_Tenure              424389 non-null  float64\n",
      " 5   Annual_Premium                 424389 non-null  float64\n",
      " 6   Loss_Amount                    424389 non-null  float64\n",
      "dtypes: float64(3), int64(4)\n",
      "memory usage: 25.9 MB\n"
     ]
    }
   ],
   "source": [
    "new_train_set.info()"
   ]
  },
  {
   "cell_type": "code",
   "execution_count": 49,
   "metadata": {},
   "outputs": [],
   "source": [
    "#new_train_set['Driver_Maximum_Age']"
   ]
  },
  {
   "cell_type": "code",
   "execution_count": 14,
   "metadata": {},
   "outputs": [
    {
     "name": "stderr",
     "output_type": "stream",
     "text": [
      "C:\\anaconda\\lib\\site-packages\\ipykernel_launcher.py:2: SettingWithCopyWarning: \n",
      "A value is trying to be set on a copy of a slice from a DataFrame.\n",
      "Try using .loc[row_indexer,col_indexer] = value instead\n",
      "\n",
      "See the caveats in the documentation: https://pandas.pydata.org/pandas-docs/stable/user_guide/indexing.html#returning-a-view-versus-a-copy\n",
      "  \n"
     ]
    }
   ],
   "source": [
    "#Calculating average age and deleting Maximum and Minimum ages as they are redundant\n",
    "new_train_set['Driver_Mean_Age'] = (new_train_set.Driver_Maximum_Age + new_train_set.Driver_Minimum_Age)/2\n",
    "new_train_set = new_train_set.drop(labels=['Driver_Maximum_Age', 'Driver_Minimum_Age'], axis=1)\n",
    "\n",
    "#just a copy of new set to experiment with\n",
    "#mock_set = new_train_set"
   ]
  },
  {
   "cell_type": "code",
   "execution_count": 65,
   "metadata": {},
   "outputs": [],
   "source": [
    "#Experiments\n",
    "#mock_set['Annual_Premium * Driver_Age'] = mock_set.Annual_Premium * mock_set.Driver_Age"
   ]
  },
  {
   "cell_type": "code",
   "execution_count": 565,
   "metadata": {},
   "outputs": [],
   "source": [
    "#Experiments\n",
    "#mock_set['log(Annual_Premium)'] = np.log(mock_set.Annual_Premium)"
   ]
  },
  {
   "cell_type": "code",
   "execution_count": 66,
   "metadata": {},
   "outputs": [],
   "source": [
    "#Plotting heatmap of pair correlations of features\n",
    "#plt.figure(figsize=(10,10))\n",
    "#sns.heatmap(mock_set.corr(), annot=True)"
   ]
  },
  {
   "cell_type": "code",
   "execution_count": 15,
   "metadata": {},
   "outputs": [
    {
     "name": "stdout",
     "output_type": "stream",
     "text": [
      "<class 'pandas.core.frame.DataFrame'>\n",
      "Int64Index: 424389 entries, 0 to 424430\n",
      "Data columns (total 6 columns):\n",
      " #   Column                         Non-Null Count   Dtype  \n",
      "---  ------                         --------------   -----  \n",
      " 0   Vehicle_Age_In_Years           424389 non-null  int64  \n",
      " 1   Vehicle_Physical_Damage_Limit  424389 non-null  int64  \n",
      " 2   EEA_Policy_Tenure              424389 non-null  float64\n",
      " 3   Annual_Premium                 424389 non-null  float64\n",
      " 4   Loss_Amount                    424389 non-null  float64\n",
      " 5   Driver_Mean_Age                424389 non-null  float64\n",
      "dtypes: float64(4), int64(2)\n",
      "memory usage: 22.7 MB\n"
     ]
    }
   ],
   "source": [
    "new_train_set.info()"
   ]
  },
  {
   "cell_type": "code",
   "execution_count": 16,
   "metadata": {},
   "outputs": [],
   "source": [
    "#Algorithm to convert all object types to One-hot dummies\n",
    "\n",
    "obj_set = new_train_set.select_dtypes(include='object')\n",
    "#obj_set = obj_set.join(new_train_set['Policy_Installment_Term'])\n",
    "\n",
    "for i in obj_set.columns:\n",
    "    one_hot = pd.get_dummies(new_train_set[i], prefix=i)\n",
    "    new_train_set = new_train_set.drop(i, axis=1)\n",
    "    new_train_set = new_train_set.join(one_hot)"
   ]
  },
  {
   "cell_type": "code",
   "execution_count": 17,
   "metadata": {},
   "outputs": [
    {
     "name": "stdout",
     "output_type": "stream",
     "text": [
      "<class 'pandas.core.frame.DataFrame'>\n",
      "Int64Index: 424389 entries, 0 to 424430\n",
      "Data columns (total 6 columns):\n",
      " #   Column                         Non-Null Count   Dtype  \n",
      "---  ------                         --------------   -----  \n",
      " 0   Vehicle_Age_In_Years           424389 non-null  int64  \n",
      " 1   Vehicle_Physical_Damage_Limit  424389 non-null  int64  \n",
      " 2   EEA_Policy_Tenure              424389 non-null  float64\n",
      " 3   Annual_Premium                 424389 non-null  float64\n",
      " 4   Loss_Amount                    424389 non-null  float64\n",
      " 5   Driver_Mean_Age                424389 non-null  float64\n",
      "dtypes: float64(4), int64(2)\n",
      "memory usage: 22.7 MB\n"
     ]
    }
   ],
   "source": [
    "new_train_set.info()"
   ]
  },
  {
   "cell_type": "code",
   "execution_count": 18,
   "metadata": {},
   "outputs": [],
   "source": [
    "#Separating training set into data with Loss and without Loss\n",
    "set_wout_loss = new_train_set[new_train_set.Loss_Amount == 0]\n",
    "set_with_loss = new_train_set[new_train_set.Loss_Amount != 0]"
   ]
  },
  {
   "cell_type": "code",
   "execution_count": 19,
   "metadata": {},
   "outputs": [],
   "source": [
    "#NOW. This is important!!! These are parameters for new training set creation\n",
    "random.seed(10) #seed \n",
    "sample_size_array = [1000, 3000, 5000] #sample size for train sample\n",
    "loss_fraction_array = [.01,.02,.03,.04,.05,.06,.07,.08,.09,.1,.2] #fraction of train sample that has loss\n",
    "set_size = 30000 #<---- This is size of new training set"
   ]
  },
  {
   "cell_type": "code",
   "execution_count": 20,
   "metadata": {},
   "outputs": [],
   "source": [
    "# THIS PART IS HARD TO EXPLAIN\n",
    "#But basically, it is just constructing a new data set of 30000\n",
    "sample_size = random.choice(sample_size_array)\n",
    "loss_frac = random.choice(loss_fraction_array)\n",
    "loss_num = int(sample_size * loss_frac)\n",
    "\n",
    "sampled_set = pd.concat([set_wout_loss.sample(sample_size-loss_num, replace=True, random_state = 0), \n",
    "                             set_with_loss.sample(loss_num, replace=True, random_state = 0)],\n",
    "                            ignore_index=True)\n",
    "\n",
    "new_set = (sampled_set.sum()/sample_size).to_frame().T\n",
    "\n",
    "std_set = pd.DataFrame(columns=[\"Driver_Mean_Age_Std\",  \n",
    "                                \"Vehicle_Age_In_Years_Std\", \n",
    "                                'Vehicle_Physical_Damage_Limit_Std',\n",
    "#                                'Vehicle_Miles_To_Work_Std',\n",
    "                                'Annual_Premium_Std',\n",
    "                                'EEA_Policy_Tenure_Std'], dtype=np.float)\n",
    "\n",
    "std_set = std_set.append({'Driver_Mean_Age_Std' : sampled_set.Driver_Mean_Age.std(), \n",
    "                          'Vehicle_Age_In_Years_Std' : sampled_set.Vehicle_Age_In_Years.std(),\n",
    "                          'Vehicle_Physical_Damage_Limit_Std' : sampled_set.Vehicle_Physical_Damage_Limit.std(),\n",
    "#                          'Vehicle_Miles_To_Work_Std' : sampled_set.Vehicle_Miles_To_Work.std(),\n",
    "                          'Annual_Premium_Std' : sampled_set.Annual_Premium.std(),\n",
    "                          'EEA_Policy_Tenure_Std': sampled_set.EEA_Policy_Tenure.std()} , ignore_index=True)"
   ]
  },
  {
   "cell_type": "code",
   "execution_count": 21,
   "metadata": {},
   "outputs": [
    {
     "data": {
      "text/html": [
       "<div>\n",
       "<style scoped>\n",
       "    .dataframe tbody tr th:only-of-type {\n",
       "        vertical-align: middle;\n",
       "    }\n",
       "\n",
       "    .dataframe tbody tr th {\n",
       "        vertical-align: top;\n",
       "    }\n",
       "\n",
       "    .dataframe thead th {\n",
       "        text-align: right;\n",
       "    }\n",
       "</style>\n",
       "<table border=\"1\" class=\"dataframe\">\n",
       "  <thead>\n",
       "    <tr style=\"text-align: right;\">\n",
       "      <th></th>\n",
       "      <th>Vehicle_Age_In_Years</th>\n",
       "      <th>Vehicle_Physical_Damage_Limit</th>\n",
       "      <th>EEA_Policy_Tenure</th>\n",
       "      <th>Annual_Premium</th>\n",
       "      <th>Loss_Amount</th>\n",
       "      <th>Driver_Mean_Age</th>\n",
       "    </tr>\n",
       "  </thead>\n",
       "  <tbody>\n",
       "    <tr>\n",
       "      <th>0</th>\n",
       "      <td>7.0798</td>\n",
       "      <td>48990.9616</td>\n",
       "      <td>5.9517</td>\n",
       "      <td>331.13614</td>\n",
       "      <td>102.598874</td>\n",
       "      <td>46.9242</td>\n",
       "    </tr>\n",
       "  </tbody>\n",
       "</table>\n",
       "</div>"
      ],
      "text/plain": [
       "   Vehicle_Age_In_Years  Vehicle_Physical_Damage_Limit  EEA_Policy_Tenure  \\\n",
       "0                7.0798                     48990.9616             5.9517   \n",
       "\n",
       "   Annual_Premium  Loss_Amount  Driver_Mean_Age  \n",
       "0       331.13614   102.598874          46.9242  "
      ]
     },
     "execution_count": 21,
     "metadata": {},
     "output_type": "execute_result"
    }
   ],
   "source": [
    "new_set"
   ]
  },
  {
   "cell_type": "code",
   "execution_count": 22,
   "metadata": {},
   "outputs": [],
   "source": [
    "#THIS IS CONTINUATION OF PREVIOUS CODE TO CONSTRUCT A NEW TRAINING SET\n",
    "for i in range(1,set_size):\n",
    "    sample_size = random.choice(sample_size_array)\n",
    "    loss_frac = random.choice(loss_fraction_array)\n",
    "    loss_num = int(sample_size * loss_frac)\n",
    "    \n",
    "    sampled_set = pd.concat([set_wout_loss.sample(sample_size-loss_num, replace=True, random_state = i), \n",
    "                             set_with_loss.sample(loss_num, replace=True, random_state = i)],\n",
    "                            ignore_index=True)\n",
    "    \n",
    "    new_set = pd.concat([new_set, (sampled_set.sum()/sample_size).to_frame().T], ignore_index=True);\n",
    "    \n",
    "    std_set = std_set.append({'Driver_Mean_Age_Std' : sampled_set.Driver_Mean_Age.std(), \n",
    "                              'Vehicle_Age_In_Years_Std' : sampled_set.Vehicle_Age_In_Years.std(),\n",
    "                              'Vehicle_Physical_Damage_Limit_Std' : sampled_set.Vehicle_Physical_Damage_Limit.std(),\n",
    "#                              'Vehicle_Miles_To_Work_Std' : sampled_set.Vehicle_Miles_To_Work.std(),\n",
    "                              'Annual_Premium_Std' : sampled_set.Annual_Premium.std(),\n",
    "                              'EEA_Policy_Tenure_Std': sampled_set.EEA_Policy_Tenure.std()} , ignore_index=True)"
   ]
  },
  {
   "cell_type": "code",
   "execution_count": 23,
   "metadata": {},
   "outputs": [],
   "source": [
    "new_set = new_set.join(std_set)"
   ]
  },
  {
   "cell_type": "code",
   "execution_count": 25,
   "metadata": {},
   "outputs": [
    {
     "data": {
      "text/html": [
       "<div>\n",
       "<style scoped>\n",
       "    .dataframe tbody tr th:only-of-type {\n",
       "        vertical-align: middle;\n",
       "    }\n",
       "\n",
       "    .dataframe tbody tr th {\n",
       "        vertical-align: top;\n",
       "    }\n",
       "\n",
       "    .dataframe thead th {\n",
       "        text-align: right;\n",
       "    }\n",
       "</style>\n",
       "<table border=\"1\" class=\"dataframe\">\n",
       "  <thead>\n",
       "    <tr style=\"text-align: right;\">\n",
       "      <th></th>\n",
       "      <th>Vehicle_Age_In_Years</th>\n",
       "      <th>Vehicle_Physical_Damage_Limit</th>\n",
       "      <th>EEA_Policy_Tenure</th>\n",
       "      <th>Annual_Premium</th>\n",
       "      <th>Loss_Amount</th>\n",
       "      <th>Driver_Mean_Age</th>\n",
       "      <th>Driver_Mean_Age_Std</th>\n",
       "      <th>Vehicle_Age_In_Years_Std</th>\n",
       "      <th>Vehicle_Physical_Damage_Limit_Std</th>\n",
       "      <th>Annual_Premium_Std</th>\n",
       "      <th>EEA_Policy_Tenure_Std</th>\n",
       "    </tr>\n",
       "  </thead>\n",
       "  <tbody>\n",
       "    <tr>\n",
       "      <th>0</th>\n",
       "      <td>7.079800</td>\n",
       "      <td>48990.961600</td>\n",
       "      <td>5.951700</td>\n",
       "      <td>331.136140</td>\n",
       "      <td>102.598874</td>\n",
       "      <td>46.924200</td>\n",
       "      <td>15.744451</td>\n",
       "      <td>2.561942</td>\n",
       "      <td>38974.664674</td>\n",
       "      <td>205.915622</td>\n",
       "      <td>6.727003</td>\n",
       "    </tr>\n",
       "    <tr>\n",
       "      <th>1</th>\n",
       "      <td>7.078333</td>\n",
       "      <td>47388.289333</td>\n",
       "      <td>5.733733</td>\n",
       "      <td>339.325737</td>\n",
       "      <td>387.394897</td>\n",
       "      <td>46.743833</td>\n",
       "      <td>15.697445</td>\n",
       "      <td>2.583748</td>\n",
       "      <td>35804.362186</td>\n",
       "      <td>212.746602</td>\n",
       "      <td>6.505932</td>\n",
       "    </tr>\n",
       "    <tr>\n",
       "      <th>2</th>\n",
       "      <td>7.006000</td>\n",
       "      <td>47523.959600</td>\n",
       "      <td>5.990520</td>\n",
       "      <td>334.330106</td>\n",
       "      <td>37.310986</td>\n",
       "      <td>46.834600</td>\n",
       "      <td>15.866660</td>\n",
       "      <td>2.592626</td>\n",
       "      <td>35207.402293</td>\n",
       "      <td>211.749383</td>\n",
       "      <td>6.694347</td>\n",
       "    </tr>\n",
       "    <tr>\n",
       "      <th>3</th>\n",
       "      <td>6.904000</td>\n",
       "      <td>47519.952000</td>\n",
       "      <td>5.873300</td>\n",
       "      <td>345.549600</td>\n",
       "      <td>442.980190</td>\n",
       "      <td>47.038000</td>\n",
       "      <td>15.463220</td>\n",
       "      <td>2.616033</td>\n",
       "      <td>36873.619646</td>\n",
       "      <td>186.531935</td>\n",
       "      <td>6.424331</td>\n",
       "    </tr>\n",
       "    <tr>\n",
       "      <th>4</th>\n",
       "      <td>7.067667</td>\n",
       "      <td>49233.297333</td>\n",
       "      <td>5.772033</td>\n",
       "      <td>334.978783</td>\n",
       "      <td>222.262727</td>\n",
       "      <td>46.643333</td>\n",
       "      <td>15.813975</td>\n",
       "      <td>2.530195</td>\n",
       "      <td>39564.557605</td>\n",
       "      <td>202.540343</td>\n",
       "      <td>6.351606</td>\n",
       "    </tr>\n",
       "  </tbody>\n",
       "</table>\n",
       "</div>"
      ],
      "text/plain": [
       "   Vehicle_Age_In_Years  Vehicle_Physical_Damage_Limit  EEA_Policy_Tenure  \\\n",
       "0              7.079800                   48990.961600           5.951700   \n",
       "1              7.078333                   47388.289333           5.733733   \n",
       "2              7.006000                   47523.959600           5.990520   \n",
       "3              6.904000                   47519.952000           5.873300   \n",
       "4              7.067667                   49233.297333           5.772033   \n",
       "\n",
       "   Annual_Premium  Loss_Amount  Driver_Mean_Age  Driver_Mean_Age_Std  \\\n",
       "0      331.136140   102.598874        46.924200            15.744451   \n",
       "1      339.325737   387.394897        46.743833            15.697445   \n",
       "2      334.330106    37.310986        46.834600            15.866660   \n",
       "3      345.549600   442.980190        47.038000            15.463220   \n",
       "4      334.978783   222.262727        46.643333            15.813975   \n",
       "\n",
       "   Vehicle_Age_In_Years_Std  Vehicle_Physical_Damage_Limit_Std  \\\n",
       "0                  2.561942                       38974.664674   \n",
       "1                  2.583748                       35804.362186   \n",
       "2                  2.592626                       35207.402293   \n",
       "3                  2.616033                       36873.619646   \n",
       "4                  2.530195                       39564.557605   \n",
       "\n",
       "   Annual_Premium_Std  EEA_Policy_Tenure_Std  \n",
       "0          205.915622               6.727003  \n",
       "1          212.746602               6.505932  \n",
       "2          211.749383               6.694347  \n",
       "3          186.531935               6.424331  \n",
       "4          202.540343               6.351606  "
      ]
     },
     "execution_count": 25,
     "metadata": {},
     "output_type": "execute_result"
    }
   ],
   "source": [
    "new_set.head()"
   ]
  },
  {
   "cell_type": "code",
   "execution_count": 26,
   "metadata": {},
   "outputs": [],
   "source": [
    "#CALCULATING LOSS RATIO \n",
    "new_set['Loss_Ratio'] = np.log(new_set['Loss_Amount']/new_set['Annual_Premium'])\n",
    "new_set = new_set.drop(['Loss_Amount'], axis=1)"
   ]
  },
  {
   "cell_type": "code",
   "execution_count": 27,
   "metadata": {},
   "outputs": [
    {
     "data": {
      "text/html": [
       "<div>\n",
       "<style scoped>\n",
       "    .dataframe tbody tr th:only-of-type {\n",
       "        vertical-align: middle;\n",
       "    }\n",
       "\n",
       "    .dataframe tbody tr th {\n",
       "        vertical-align: top;\n",
       "    }\n",
       "\n",
       "    .dataframe thead th {\n",
       "        text-align: right;\n",
       "    }\n",
       "</style>\n",
       "<table border=\"1\" class=\"dataframe\">\n",
       "  <thead>\n",
       "    <tr style=\"text-align: right;\">\n",
       "      <th></th>\n",
       "      <th>Vehicle_Age_In_Years</th>\n",
       "      <th>Vehicle_Physical_Damage_Limit</th>\n",
       "      <th>EEA_Policy_Tenure</th>\n",
       "      <th>Annual_Premium</th>\n",
       "      <th>Driver_Mean_Age</th>\n",
       "      <th>Driver_Mean_Age_Std</th>\n",
       "      <th>Vehicle_Age_In_Years_Std</th>\n",
       "      <th>Vehicle_Physical_Damage_Limit_Std</th>\n",
       "      <th>Annual_Premium_Std</th>\n",
       "      <th>EEA_Policy_Tenure_Std</th>\n",
       "      <th>Loss_Ratio</th>\n",
       "    </tr>\n",
       "  </thead>\n",
       "  <tbody>\n",
       "    <tr>\n",
       "      <th>0</th>\n",
       "      <td>7.079800</td>\n",
       "      <td>48990.961600</td>\n",
       "      <td>5.951700</td>\n",
       "      <td>331.136140</td>\n",
       "      <td>46.924200</td>\n",
       "      <td>15.744451</td>\n",
       "      <td>2.561942</td>\n",
       "      <td>38974.664674</td>\n",
       "      <td>205.915622</td>\n",
       "      <td>6.727003</td>\n",
       "      <td>-1.171703</td>\n",
       "    </tr>\n",
       "    <tr>\n",
       "      <th>1</th>\n",
       "      <td>7.078333</td>\n",
       "      <td>47388.289333</td>\n",
       "      <td>5.733733</td>\n",
       "      <td>339.325737</td>\n",
       "      <td>46.743833</td>\n",
       "      <td>15.697445</td>\n",
       "      <td>2.583748</td>\n",
       "      <td>35804.362186</td>\n",
       "      <td>212.746602</td>\n",
       "      <td>6.505932</td>\n",
       "      <td>0.132484</td>\n",
       "    </tr>\n",
       "    <tr>\n",
       "      <th>2</th>\n",
       "      <td>7.006000</td>\n",
       "      <td>47523.959600</td>\n",
       "      <td>5.990520</td>\n",
       "      <td>334.330106</td>\n",
       "      <td>46.834600</td>\n",
       "      <td>15.866660</td>\n",
       "      <td>2.592626</td>\n",
       "      <td>35207.402293</td>\n",
       "      <td>211.749383</td>\n",
       "      <td>6.694347</td>\n",
       "      <td>-2.192841</td>\n",
       "    </tr>\n",
       "    <tr>\n",
       "      <th>3</th>\n",
       "      <td>6.904000</td>\n",
       "      <td>47519.952000</td>\n",
       "      <td>5.873300</td>\n",
       "      <td>345.549600</td>\n",
       "      <td>47.038000</td>\n",
       "      <td>15.463220</td>\n",
       "      <td>2.616033</td>\n",
       "      <td>36873.619646</td>\n",
       "      <td>186.531935</td>\n",
       "      <td>6.424331</td>\n",
       "      <td>0.248389</td>\n",
       "    </tr>\n",
       "    <tr>\n",
       "      <th>4</th>\n",
       "      <td>7.067667</td>\n",
       "      <td>49233.297333</td>\n",
       "      <td>5.772033</td>\n",
       "      <td>334.978783</td>\n",
       "      <td>46.643333</td>\n",
       "      <td>15.813975</td>\n",
       "      <td>2.530195</td>\n",
       "      <td>39564.557605</td>\n",
       "      <td>202.540343</td>\n",
       "      <td>6.351606</td>\n",
       "      <td>-0.410207</td>\n",
       "    </tr>\n",
       "  </tbody>\n",
       "</table>\n",
       "</div>"
      ],
      "text/plain": [
       "   Vehicle_Age_In_Years  Vehicle_Physical_Damage_Limit  EEA_Policy_Tenure  \\\n",
       "0              7.079800                   48990.961600           5.951700   \n",
       "1              7.078333                   47388.289333           5.733733   \n",
       "2              7.006000                   47523.959600           5.990520   \n",
       "3              6.904000                   47519.952000           5.873300   \n",
       "4              7.067667                   49233.297333           5.772033   \n",
       "\n",
       "   Annual_Premium  Driver_Mean_Age  Driver_Mean_Age_Std  \\\n",
       "0      331.136140        46.924200            15.744451   \n",
       "1      339.325737        46.743833            15.697445   \n",
       "2      334.330106        46.834600            15.866660   \n",
       "3      345.549600        47.038000            15.463220   \n",
       "4      334.978783        46.643333            15.813975   \n",
       "\n",
       "   Vehicle_Age_In_Years_Std  Vehicle_Physical_Damage_Limit_Std  \\\n",
       "0                  2.561942                       38974.664674   \n",
       "1                  2.583748                       35804.362186   \n",
       "2                  2.592626                       35207.402293   \n",
       "3                  2.616033                       36873.619646   \n",
       "4                  2.530195                       39564.557605   \n",
       "\n",
       "   Annual_Premium_Std  EEA_Policy_Tenure_Std  Loss_Ratio  \n",
       "0          205.915622               6.727003   -1.171703  \n",
       "1          212.746602               6.505932    0.132484  \n",
       "2          211.749383               6.694347   -2.192841  \n",
       "3          186.531935               6.424331    0.248389  \n",
       "4          202.540343               6.351606   -0.410207  "
      ]
     },
     "execution_count": 27,
     "metadata": {},
     "output_type": "execute_result"
    }
   ],
   "source": [
    "new_set.head()"
   ]
  },
  {
   "cell_type": "code",
   "execution_count": 28,
   "metadata": {},
   "outputs": [],
   "source": [
    "#Separating X features from y target\n",
    "X = new_set.drop('Loss_Ratio', axis=1)\n",
    "y = new_set[['Loss_Ratio']]"
   ]
  },
  {
   "cell_type": "code",
   "execution_count": 29,
   "metadata": {},
   "outputs": [],
   "source": [
    "#Train test split\n",
    "X_train, X_test, y_train, y_test = train_test_split(X, y, test_size=0.2, random_state = 36)"
   ]
  },
  {
   "cell_type": "code",
   "execution_count": 30,
   "metadata": {},
   "outputs": [],
   "source": [
    "#Scaling train set\n",
    "# scale train dataset\n",
    "scaler = preprocessing.StandardScaler().fit(X_train)\n",
    "X_train_scaled = scaler.transform(X_train)\n",
    "\n",
    "# scale test dataset\n",
    "X_test_scaled = scaler.transform(X_test)"
   ]
  },
  {
   "cell_type": "code",
   "execution_count": 31,
   "metadata": {},
   "outputs": [],
   "source": [
    "#SKLEARN GRADIENT BOOST MODEL\n",
    "#WE CAN ACTUALLY TRY XGBOOST HERE\n",
    "from sklearn.ensemble import GradientBoostingRegressor"
   ]
  },
  {
   "cell_type": "code",
   "execution_count": 32,
   "metadata": {},
   "outputs": [
    {
     "name": "stderr",
     "output_type": "stream",
     "text": [
      "C:\\anaconda\\lib\\site-packages\\sklearn\\ensemble\\gradient_boosting.py:1450: DataConversionWarning: A column-vector y was passed when a 1d array was expected. Please change the shape of y to (n_samples, ), for example using ravel().\n",
      "  y = column_or_1d(y, warn=True)\n"
     ]
    },
    {
     "data": {
      "text/plain": [
       "GradientBoostingRegressor(alpha=0.9, criterion='friedman_mse', init=None,\n",
       "                          learning_rate=0.1, loss='ls', max_depth=3,\n",
       "                          max_features=None, max_leaf_nodes=None,\n",
       "                          min_impurity_decrease=0.0, min_impurity_split=None,\n",
       "                          min_samples_leaf=1, min_samples_split=2,\n",
       "                          min_weight_fraction_leaf=0.0, n_estimators=100,\n",
       "                          n_iter_no_change=None, presort='auto',\n",
       "                          random_state=None, subsample=1.0, tol=0.0001,\n",
       "                          validation_fraction=0.1, verbose=0, warm_start=False)"
      ]
     },
     "execution_count": 32,
     "metadata": {},
     "output_type": "execute_result"
    }
   ],
   "source": [
    "gdb = GradientBoostingRegressor(learning_rate=0.1)\n",
    "gdb.fit(X_train, y_train)"
   ]
  },
  {
   "cell_type": "code",
   "execution_count": 33,
   "metadata": {},
   "outputs": [
    {
     "data": {
      "text/plain": [
       "0.4027997511685041"
      ]
     },
     "execution_count": 33,
     "metadata": {},
     "output_type": "execute_result"
    }
   ],
   "source": [
    "#Calculating mean squeared error\n",
    "mean_squared_error(y_test, gdb.predict(X_test))"
   ]
  },
  {
   "cell_type": "code",
   "execution_count": 34,
   "metadata": {},
   "outputs": [
    {
     "data": {
      "image/png": "[encoded data removed]",
      "text/plain": [
       "<Figure size 792x792 with 1 Axes>"
      ]
     },
     "metadata": {
      "needs_background": "light"
     },
     "output_type": "display_data"
    }
   ],
   "source": [
    "#HERE ARE IMPORTANCE OF EACH FEATURE\n",
    "feature_importance = gdb.feature_importances_\n",
    "# make importances relative to max importance\n",
    "sorted_idx = np.argsort(feature_importance)\n",
    "pos = np.arange(sorted_idx.shape[0]) + .5\n",
    "plt.figure(figsize=(11,11))\n",
    "plt.barh(pos, feature_importance[sorted_idx], align='center')\n",
    "plt.yticks(pos, X.columns[sorted_idx])\n",
    "plt.xlabel('Absolute Importance')\n",
    "plt.title('Variable Importance')\n",
    "plt.show()"
   ]
  },
  {
   "cell_type": "code",
   "execution_count": 35,
   "metadata": {},
   "outputs": [
    {
     "data": {
      "text/plain": [
       "[<matplotlib.lines.Line2D at 0x3e47970>]"
      ]
     },
     "execution_count": 35,
     "metadata": {},
     "output_type": "execute_result"
    },
    {
     "data": {
      "image/png": "[encoded data removed]",
      "text/plain": [
       "<Figure size 432x288 with 1 Axes>"
      ]
     },
     "metadata": {
      "needs_background": "light"
     },
     "output_type": "display_data"
    }
   ],
   "source": [
    "#PLOTTING PREDICTED AND ACTUAL VALUES: RED ARE PREDICTED and BLUE ARE ACTUAL\n",
    "plt.plot(y_test.values, 'bo')\n",
    "plt.plot(gdb.predict(X_test), 'ro')"
   ]
  },
  {
   "cell_type": "code",
   "execution_count": 36,
   "metadata": {},
   "outputs": [
    {
     "data": {
      "text/plain": [
       "0.023510828936450814"
      ]
     },
     "execution_count": 36,
     "metadata": {},
     "output_type": "execute_result"
    }
   ],
   "source": [
    "gdb.predict(X_test_scaled).std()"
   ]
  },
  {
   "cell_type": "markdown",
   "metadata": {},
   "source": [
    "# 2. Prectict test set"
   ]
  },
  {
   "cell_type": "code",
   "execution_count": 37,
   "metadata": {},
   "outputs": [],
   "source": [
    "#downloading everything from folder testing_portfolios\n",
    "import glob\n",
    "portfolios = glob.glob('testing_portfolios/*.csv')"
   ]
  },
  {
   "cell_type": "code",
   "execution_count": 38,
   "metadata": {},
   "outputs": [],
   "source": [
    "#preprocessing of data in order our model accepted and made predictions\n",
    "#actually it is the same as we did when constructed new_set\n",
    "std_test_set = pd.DataFrame(columns=[\"Driver_Min_Age_Std\", \n",
    "                                     \"Driver_Max_Age_Std\", \n",
    "                                     \"Vehicle_Age_In_Years_Std\",\n",
    "                                     'Vehicle_Physical_Damage_Limit_Std',\n",
    "#                                     'Vehicle_Miles_To_Work_Std',\n",
    "                                     'Annual_Premium_Std',\n",
    "                                     'EEA_Policy_Tenure_Std'], dtype=np.float)\n",
    "\n",
    "new_test_set = pd.DataFrame(columns=['Vehicle_Age_In_Years',                                    \n",
    "                                     'Vehicle_Physical_Damage_Limit',\n",
    "#                                     'Vehicle_Miles_To_Work',\n",
    "                                     'Driver_Minimum_Age',                          \n",
    "                                     'Driver_Maximum_Age',                                        \n",
    "                                     'EEA_Policy_Tenure',                                                                                \n",
    "                                     'Annual_Premium'])\n",
    "\n",
    "for i in portfolios:\n",
    "    \n",
    "    test_set = pd.read_csv(i)\n",
    "\n",
    "    sampled_test_set = test_set[['Vehicle_Age_In_Years',                                    \n",
    "                                 'Vehicle_Physical_Damage_Limit',\n",
    "#                                 'Vehicle_Miles_To_Work',\n",
    "                                 'Driver_Minimum_Age',                          \n",
    "                                 'Driver_Maximum_Age',                                        \n",
    "                                 'EEA_Policy_Tenure',                                                                               \n",
    "                                 'Annual_Premium']]\n",
    "\n",
    "    #obj_test_set = sampled_test_set.select_dtypes(include='object')\n",
    "\n",
    "    #for i in obj_test_set.columns:\n",
    "    #    one_hot = pd.get_dummies(sampled_test_set[i], prefix=i)\n",
    "    #    sampled_test_set = sampled_test_set.drop(i, axis=1)\n",
    "    #    sampled_test_set = sampled_test_set.join(one_hot)\n",
    "    \n",
    "    new_test_set = pd.concat([new_test_set, (sampled_test_set.sum()/len(sampled_test_set)).to_frame().T], ignore_index=True);\n",
    "    std_test_set = std_test_set.append({'Driver_Min_Age_Std' : sampled_test_set.Driver_Minimum_Age.std(), \n",
    "                              'Driver_Max_Age_Std' : sampled_test_set.Driver_Maximum_Age.std(),\n",
    "                              'Vehicle_Age_In_Years_Std' : sampled_test_set.Vehicle_Age_In_Years.std(),\n",
    "                              'Vehicle_Physical_Damage_Limit_Std' : sampled_test_set.Vehicle_Physical_Damage_Limit.std(),\n",
    "#                              'Vehicle_Miles_To_Work_Std' : sampled_test_set.Vehicle_Miles_To_Work.std(),\n",
    "                              'Annual_Premium_Std' : sampled_test_set.Annual_Premium.std(),\n",
    "                              'EEA_Policy_Tenure_Std': sampled_test_set.EEA_Policy_Tenure.std()} , ignore_index=True)"
   ]
  },
  {
   "cell_type": "code",
   "execution_count": 39,
   "metadata": {},
   "outputs": [
    {
     "data": {
      "text/html": [
       "<div>\n",
       "<style scoped>\n",
       "    .dataframe tbody tr th:only-of-type {\n",
       "        vertical-align: middle;\n",
       "    }\n",
       "\n",
       "    .dataframe tbody tr th {\n",
       "        vertical-align: top;\n",
       "    }\n",
       "\n",
       "    .dataframe thead th {\n",
       "        text-align: right;\n",
       "    }\n",
       "</style>\n",
       "<table border=\"1\" class=\"dataframe\">\n",
       "  <thead>\n",
       "    <tr style=\"text-align: right;\">\n",
       "      <th></th>\n",
       "      <th>Vehicle_Age_In_Years</th>\n",
       "      <th>Vehicle_Physical_Damage_Limit</th>\n",
       "      <th>Driver_Minimum_Age</th>\n",
       "      <th>Driver_Maximum_Age</th>\n",
       "      <th>EEA_Policy_Tenure</th>\n",
       "      <th>Annual_Premium</th>\n",
       "    </tr>\n",
       "  </thead>\n",
       "  <tbody>\n",
       "    <tr>\n",
       "      <th>0</th>\n",
       "      <td>7.076000</td>\n",
       "      <td>47794.963000</td>\n",
       "      <td>46.328000</td>\n",
       "      <td>47.542000</td>\n",
       "      <td>5.780600</td>\n",
       "      <td>331.804800</td>\n",
       "    </tr>\n",
       "    <tr>\n",
       "      <th>1</th>\n",
       "      <td>6.908818</td>\n",
       "      <td>47745.455912</td>\n",
       "      <td>46.904810</td>\n",
       "      <td>47.883768</td>\n",
       "      <td>5.762725</td>\n",
       "      <td>344.051483</td>\n",
       "    </tr>\n",
       "    <tr>\n",
       "      <th>2</th>\n",
       "      <td>7.084000</td>\n",
       "      <td>50404.962000</td>\n",
       "      <td>46.056000</td>\n",
       "      <td>47.108000</td>\n",
       "      <td>5.843300</td>\n",
       "      <td>324.789900</td>\n",
       "    </tr>\n",
       "    <tr>\n",
       "      <th>3</th>\n",
       "      <td>6.872000</td>\n",
       "      <td>48209.965000</td>\n",
       "      <td>47.041000</td>\n",
       "      <td>48.124000</td>\n",
       "      <td>6.113400</td>\n",
       "      <td>337.672390</td>\n",
       "    </tr>\n",
       "    <tr>\n",
       "      <th>4</th>\n",
       "      <td>7.054054</td>\n",
       "      <td>47307.266266</td>\n",
       "      <td>46.279279</td>\n",
       "      <td>47.304304</td>\n",
       "      <td>5.629129</td>\n",
       "      <td>344.488939</td>\n",
       "    </tr>\n",
       "  </tbody>\n",
       "</table>\n",
       "</div>"
      ],
      "text/plain": [
       "   Vehicle_Age_In_Years  Vehicle_Physical_Damage_Limit  Driver_Minimum_Age  \\\n",
       "0              7.076000                   47794.963000           46.328000   \n",
       "1              6.908818                   47745.455912           46.904810   \n",
       "2              7.084000                   50404.962000           46.056000   \n",
       "3              6.872000                   48209.965000           47.041000   \n",
       "4              7.054054                   47307.266266           46.279279   \n",
       "\n",
       "   Driver_Maximum_Age  EEA_Policy_Tenure  Annual_Premium  \n",
       "0           47.542000           5.780600      331.804800  \n",
       "1           47.883768           5.762725      344.051483  \n",
       "2           47.108000           5.843300      324.789900  \n",
       "3           48.124000           6.113400      337.672390  \n",
       "4           47.304304           5.629129      344.488939  "
      ]
     },
     "execution_count": 39,
     "metadata": {},
     "output_type": "execute_result"
    }
   ],
   "source": [
    "new_test_set.head()"
   ]
  },
  {
   "cell_type": "code",
   "execution_count": 40,
   "metadata": {},
   "outputs": [],
   "source": [
    "#In the same manner introducing new features and getting rid of old ones\n",
    "new_test_set['Driver_Mean_Age'] = (new_test_set.Driver_Maximum_Age + new_test_set.Driver_Minimum_Age)/2\n",
    "new_test_set['Driver_Mean_Age_Std'] = (std_test_set.Driver_Max_Age_Std + std_test_set.Driver_Min_Age_Std)/2\n",
    "new_test_set = new_test_set.join(std_test_set)\n",
    "new_test_set = new_test_set.drop(['Driver_Maximum_Age', \n",
    "                        'Driver_Minimum_Age',\n",
    "                        'Driver_Max_Age_Std',\n",
    "                        'Driver_Min_Age_Std'], axis=1)\n"
   ]
  },
  {
   "cell_type": "code",
   "execution_count": 41,
   "metadata": {},
   "outputs": [],
   "source": [
    "#normalization of whole our training set \n",
    "# scale train dataset\n",
    "scaler = preprocessing.StandardScaler().fit(X)\n",
    "X_scaled = scaler.transform(X)\n",
    "\n",
    "#based on training set we do normalization of testing set \n",
    "# scale test dataset\n",
    "X_test_scaled = scaler.transform(new_test_set)"
   ]
  },
  {
   "cell_type": "code",
   "execution_count": 42,
   "metadata": {},
   "outputs": [
    {
     "name": "stderr",
     "output_type": "stream",
     "text": [
      "C:\\anaconda\\lib\\site-packages\\sklearn\\ensemble\\gradient_boosting.py:1450: DataConversionWarning: A column-vector y was passed when a 1d array was expected. Please change the shape of y to (n_samples, ), for example using ravel().\n",
      "  y = column_or_1d(y, warn=True)\n"
     ]
    },
    {
     "data": {
      "text/plain": [
       "GradientBoostingRegressor(alpha=0.9, criterion='friedman_mse', init=None,\n",
       "                          learning_rate=0.1, loss='ls', max_depth=3,\n",
       "                          max_features=None, max_leaf_nodes=None,\n",
       "                          min_impurity_decrease=0.0, min_impurity_split=None,\n",
       "                          min_samples_leaf=1, min_samples_split=2,\n",
       "                          min_weight_fraction_leaf=0.0, n_estimators=100,\n",
       "                          n_iter_no_change=None, presort='auto',\n",
       "                          random_state=None, subsample=1.0, tol=0.0001,\n",
       "                          validation_fraction=0.1, verbose=0, warm_start=False)"
      ]
     },
     "execution_count": 42,
     "metadata": {},
     "output_type": "execute_result"
    }
   ],
   "source": [
    "#We train model fully on testing, not on 80% as we did when testing the model \n",
    "gdb = GradientBoostingRegressor(learning_rate=0.1)\n",
    "gdb.fit(X_train_scaled, y_train)"
   ]
  },
  {
   "cell_type": "code",
   "execution_count": 43,
   "metadata": {},
   "outputs": [
    {
     "data": {
      "text/plain": [
       "0.3923182982390787"
      ]
     },
     "execution_count": 43,
     "metadata": {},
     "output_type": "execute_result"
    }
   ],
   "source": [
    "#determine score on our training set \n",
    "mean_squared_error(y, gdb.predict(X_scaled))"
   ]
  },
  {
   "cell_type": "code",
   "execution_count": 44,
   "metadata": {},
   "outputs": [],
   "source": [
    "#do prediction \n",
    "y_test = gdb.predict(X_test_scaled)"
   ]
  },
  {
   "cell_type": "code",
   "execution_count": 45,
   "metadata": {},
   "outputs": [],
   "source": [
    "#save to test.csv\n",
    "df = pd.DataFrame(columns=['ID', 'ln_LR'])\n",
    "\n",
    "for i, j in zip(portfolios, y_test):\n",
    "    a = i.replace(\"testing_portfolios/test_\", \"\")\n",
    "    a = a.replace(\".csv\",\"\")\n",
    "    df = df.append({'ID' : a,\n",
    "                    'ln_LR' : j}, ignore_index=True)"
   ]
  },
  {
   "cell_type": "code",
   "execution_count": 46,
   "metadata": {},
   "outputs": [],
   "source": [
    "df.to_csv('test.csv', index=False)"
   ]
  },
  {
   "cell_type": "code",
   "execution_count": 47,
   "metadata": {},
   "outputs": [
    {
     "data": {
      "text/plain": [
       "range(3, -1, -1)"
      ]
     },
     "execution_count": 47,
     "metadata": {},
     "output_type": "execute_result"
    }
   ],
   "source": [
    "range(0,4)[::-1]"
   ]
  },
  {
   "cell_type": "code",
   "execution_count": null,
   "metadata": {},
   "outputs": [],
   "source": []
  }
 ],
 "metadata": {
  "kernelspec": {
   "display_name": "Python 3",
   "language": "python",
   "name": "python3"
  },
  "language_info": {
   "codemirror_mode": {
    "name": "ipython",
    "version": 3
   },
   "file_extension": ".py",
   "mimetype": "text/x-python",
   "name": "python",
   "nbconvert_exporter": "python",
   "pygments_lexer": "ipython3",
   "version": "3.7.6"
  }
 },
 "nbformat": 4,
 "nbformat_minor": 4
}
